{
 "cells": [
  {
   "cell_type": "code",
   "execution_count": 4,
   "metadata": {},
   "outputs": [
    {
     "name": "stdout",
     "output_type": "stream",
     "text": [
      "Welcome to Ajira Network Console!\n"
     ]
    }
   ],
   "source": [
    "from collections import *\n",
    "from ajira import *\n",
    "q = 1\n",
    "network = defaultdict(lambda:[])\n",
    "\n",
    "def execute_command(command:str):\n",
    "    command = command.split()\n",
    "    if len(command) < 3:\n",
    "        print(\"Error : Invalid command syntax\")\n",
    "        return\n",
    "\n",
    "    if command[0] == \"ADD\":\n",
    "        if command[1] == \"COMPUTER\":\n",
    "            print(add_device(network, command[1], command[2]))\n",
    "        elif command[1] == \"REPEATER\":\n",
    "            print(add_device(network, command[1], command[2]))\n",
    "        else:\n",
    "            print(\"Error: Invalid command syntax\")\n",
    "    \n",
    "    if command[0] == \"SET_DEVICE_STRENGTH\":\n",
    "        print(set_device_strength(network, command[1], command[2]))\n",
    "\n",
    "    if command[0] == \"CONNECT\":\n",
    "        print(connect_device(network, command[1], command[2]))\n",
    "\n",
    "    if command[0] == \"INFO_ROUTE\":\n",
    "        print(info_route(network, command[1], command[2]))\n",
    "\n",
    "    print(network)\n",
    "\n",
    "\n",
    "\n",
    "\n",
    "print(\"Welcome to Ajira Network Console!\")\n",
    "    \n",
    "\n"
   ]
  },
  {
   "cell_type": "code",
   "execution_count": 5,
   "metadata": {},
   "outputs": [
    {
     "name": "stdout",
     "output_type": "stream",
     "text": [
      "Successfully added C1\n",
      "defaultdict(<function <lambda> at 0x000001E3F8DF0B80>, {'C1': <classes.Device object at 0x000001E3F8D72410>})\n"
     ]
    }
   ],
   "source": [
    "execute_command(\"ADD COMPUTER C1\")"
   ]
  },
  {
   "cell_type": "code",
   "execution_count": 6,
   "metadata": {},
   "outputs": [
    {
     "name": "stdout",
     "output_type": "stream",
     "text": [
      "Successfully added C2\n",
      "defaultdict(<function <lambda> at 0x000001E3F8DF0B80>, {'C1': <classes.Device object at 0x000001E3F8D72410>, 'C2': <classes.Device object at 0x000001E3F7F62E10>})\n"
     ]
    }
   ],
   "source": [
    "execute_command(\"ADD COMPUTER C2\")"
   ]
  },
  {
   "cell_type": "code",
   "execution_count": 7,
   "metadata": {},
   "outputs": [
    {
     "name": "stdout",
     "output_type": "stream",
     "text": [
      "Successfully added A3\n",
      "defaultdict(<function <lambda> at 0x000001E3F8DF0B80>, {'C1': <classes.Device object at 0x000001E3F8D72410>, 'C2': <classes.Device object at 0x000001E3F7F62E10>, 'A3': <classes.Device object at 0x000001E3F8D747D0>})\n"
     ]
    }
   ],
   "source": [
    "execute_command(\"ADD COMPUTER A3\")"
   ]
  },
  {
   "cell_type": "code",
   "execution_count": 8,
   "metadata": {},
   "outputs": [
    {
     "name": "stdout",
     "output_type": "stream",
     "text": [
      "Successfully added R1\n",
      "defaultdict(<function <lambda> at 0x000001E3F8DF0B80>, {'C1': <classes.Device object at 0x000001E3F8D72410>, 'C2': <classes.Device object at 0x000001E3F7F62E10>, 'A3': <classes.Device object at 0x000001E3F8D747D0>, 'R1': <classes.Device object at 0x000001E3F8D6E510>})\n"
     ]
    }
   ],
   "source": [
    "execute_command(\"ADD REPEATER R1\")"
   ]
  },
  {
   "cell_type": "code",
   "execution_count": 13,
   "metadata": {},
   "outputs": [
    {
     "name": "stdout",
     "output_type": "stream",
     "text": [
      "Successfully Connected!\n",
      "defaultdict(<function <lambda> at 0x000001E3F8DF0B80>, {'C1': <classes.Device object at 0x000001E3F8D72410>, 'C2': <classes.Device object at 0x000001E3F7F62E10>, 'A3': <classes.Device object at 0x000001E3F8D747D0>, 'R1': <classes.Device object at 0x000001E3F8D6E510>, 'A1': [], 'A2': []})\n"
     ]
    }
   ],
   "source": [
    "execute_command(\"CONNECT A3 C2\")"
   ]
  },
  {
   "cell_type": "code",
   "execution_count": 14,
   "metadata": {},
   "outputs": [
    {
     "name": "stdout",
     "output_type": "stream",
     "text": [
      "COMPUTER\n",
      "[]\n"
     ]
    }
   ],
   "source": [
    "print(network[\"C1\"].type)\n",
    "print(network[\"C1\"].adjacent)"
   ]
  },
  {
   "cell_type": "code",
   "execution_count": 15,
   "metadata": {},
   "outputs": [
    {
     "name": "stdout",
     "output_type": "stream",
     "text": [
      "C2\n",
      "[<classes.Device object at 0x000001E3F8D747D0>]\n"
     ]
    }
   ],
   "source": [
    "print(network[\"C2\"].name)\n",
    "print(network[\"C2\"].adjacent)"
   ]
  },
  {
   "cell_type": "code",
   "execution_count": 16,
   "metadata": {},
   "outputs": [
    {
     "name": "stdout",
     "output_type": "stream",
     "text": [
      "Device1 <classes.Device object at 0x000001E3F8D747D0>\n",
      "Device2 <classes.Device object at 0x000001E3F8D72410>\n",
      "Adjacent:  [<classes.Device object at 0x000001E3F7F62E10>]\n",
      "['A3', 'C2']\n",
      "Adjacent:  [<classes.Device object at 0x000001E3F8D747D0>]\n",
      "['A3', 'C2', 'A3']\n",
      "Above are the routes found\n",
      "defaultdict(<function <lambda> at 0x000001E3F8DF0B80>, {'C1': <classes.Device object at 0x000001E3F8D72410>, 'C2': <classes.Device object at 0x000001E3F7F62E10>, 'A3': <classes.Device object at 0x000001E3F8D747D0>, 'R1': <classes.Device object at 0x000001E3F8D6E510>, 'A1': [], 'A2': []})\n"
     ]
    }
   ],
   "source": [
    "execute_command(\"INFO_ROUTE A3 C1\")"
   ]
  }
 ],
 "metadata": {
  "kernelspec": {
   "display_name": "Python 3",
   "language": "python",
   "name": "python3"
  },
  "language_info": {
   "codemirror_mode": {
    "name": "ipython",
    "version": 3
   },
   "file_extension": ".py",
   "mimetype": "text/x-python",
   "name": "python",
   "nbconvert_exporter": "python",
   "pygments_lexer": "ipython3",
   "version": "3.11.1"
  },
  "orig_nbformat": 4,
  "vscode": {
   "interpreter": {
    "hash": "bb478938155a00d0511b7a9abd58252ba00812d23c167353cb2f3470df8b9011"
   }
  }
 },
 "nbformat": 4,
 "nbformat_minor": 2
}
